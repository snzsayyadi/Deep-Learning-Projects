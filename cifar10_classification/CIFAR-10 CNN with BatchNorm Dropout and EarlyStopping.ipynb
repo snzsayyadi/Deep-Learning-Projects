{
 "cells": [
  {
   "cell_type": "code",
   "execution_count": null,
   "id": "9dce2a76",
   "metadata": {},
   "outputs": [],
   "source": [
    "import tensorflow as tf\n",
    "from tensorflow.keras import datasets, layers, models\n",
    "from tensorflow.keras.callbacks import EarlyStopping\n",
    "import matplotlib.pyplot as plt\n",
    "\n",
    "# Load and preprocess data\n",
    "(X_train, y_train), (X_test, y_test) = datasets.cifar10.load_data()\n",
    "X_train, X_test = X_train / 255.0, X_test / 255.0 \n",
    "\n",
    "y_train = tf.keras.utils.to_categorical(y_train, 10)\n",
    "y_test  = tf.keras.utils.to_categorical(y_test, 10)\n",
    "\n",
    "# Define CNN model with BatchNorm + Dropout\n",
    "model = models.Sequential([layers.Conv2D(32, (3,3), activation='relu', input_shape=(32,32,3)),\n",
    "    layers.BatchNormalization(),layers.Conv2D(32, (3,3), activation='relu'),layers.MaxPooling2D((2,2)),\n",
    "    layers.Dropout(0.25),\n",
    "\n",
    "    layers.Conv2D(64, (3,3), activation='relu'),layers.BatchNormalization(),layers.Conv2D(64, (3,3), activation='relu'),\n",
    "    layers.MaxPooling2D((2,2)),layers.Dropout(0.25),\n",
    "\n",
    "    layers.Flatten(),layers.Dense(128, activation='relu'),layers.BatchNormalization(),layers.Dropout(0.5),\n",
    "    layers.Dense(10, activation='softmax')])\n",
    "\n",
    "# Compile model\n",
    "model.compile(optimizer='adam',loss='categorical_crossentropy',metrics=['accuracy'])\n",
    "\n",
    "# Define EarlyStopping\n",
    "early_stop = EarlyStopping(monitor='val_loss',patience=5,restore_best_weights=True)\n",
    "\n",
    "#  Train model\n",
    "history = model.fit(X_train, y_train,validation_split=0.2,epochs=50,batch_size=64,callbacks=[early_stop],\n",
    "    verbose=1)\n",
    "\n",
    "# Evaluate model\n",
    "test_loss, test_acc = model.evaluate(X_test, y_test, verbose=0)\n",
    "print(f\"\\n✅ Test Accuracy: {test_acc:.4f}\")\n",
    "\n",
    "# Plot training curves\n",
    "plt.figure(figsize=(10,4))\n",
    "plt.subplot(1,2,1)\n",
    "plt.plot(history.history['accuracy'], label='train acc')\n",
    "plt.plot(history.history['val_accuracy'], label='val acc')\n",
    "plt.title('Accuracy')\n",
    "plt.legend()\n",
    "\n",
    "plt.subplot(1,2,2)\n",
    "plt.plot(history.history['loss'], label='train loss')\n",
    "plt.plot(history.history['val_loss'], label='val loss')\n",
    "plt.title('Loss')\n",
    "plt.legend()\n",
    "plt.show()\n"
   ]
  },
  {
   "cell_type": "code",
   "execution_count": null,
   "id": "720897e1",
   "metadata": {},
   "outputs": [],
   "source": []
  }
 ],
 "metadata": {
  "kernelspec": {
   "display_name": "Python 3 (ipykernel)",
   "language": "python",
   "name": "python3"
  },
  "language_info": {
   "codemirror_mode": {
    "name": "ipython",
    "version": 3
   },
   "file_extension": ".py",
   "mimetype": "text/x-python",
   "name": "python",
   "nbconvert_exporter": "python",
   "pygments_lexer": "ipython3",
   "version": "3.11.4"
  }
 },
 "nbformat": 4,
 "nbformat_minor": 5
}
