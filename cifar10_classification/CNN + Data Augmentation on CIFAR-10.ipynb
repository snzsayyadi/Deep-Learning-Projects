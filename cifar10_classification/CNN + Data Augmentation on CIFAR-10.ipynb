{
 "cells": [
  {
   "cell_type": "code",
   "execution_count": null,
   "id": "3319d78c",
   "metadata": {},
   "outputs": [],
   "source": [
    "import tensorflow as tf\n",
    "from tensorflow import keras\n",
    "from tensorflow.keras import layers\n",
    "from tensorflow.keras.preprocessing.image import ImageDataGenerator\n",
    "import matplotlib.pyplot as plt\n",
    "\n",
    "# بارگذاری دیتاست\n",
    "(x_train, y_train), (x_test, y_test) = keras.datasets.cifar10.load_data()\n",
    "\n",
    "# نرمال سازی\n",
    "x_train = x_train.astype('float32') / 255.0\n",
    "x_test = x_test.astype('float32') / 255.0\n",
    "\n",
    "# تبدیل labels به one-hot\n",
    "y_train = keras.utils.to_categorical(y_train, 10)\n",
    "y_test = keras.utils.to_categorical(y_test, 10)\n",
    "\n",
    "#Data Augmentation\n",
    "datagen = ImageDataGenerator(rotation_range=15,width_shift_range=0.1,height_shift_range=0.1,horizontal_flip=True)\n",
    "\n",
    "datagen.fit(x_train)\n",
    "\n",
    "#CNN\n",
    "model = keras.Sequential([layers.Input(shape=(32,32,3)),layers.Conv2D(32, (3,3), activation='relu', padding='same'),\n",
    "    layers.Conv2D(32, (3,3), activation='relu', padding='same'),layers.MaxPooling2D((2,2)),layers.Dropout(0.25),\n",
    "\n",
    "    layers.Conv2D(64, (3,3), activation='relu', padding='same'),layers.Conv2D(64, (3,3), activation='relu', padding='same'),\n",
    "    layers.MaxPooling2D((2,2)),layers.Dropout(0.25),\n",
    "\n",
    "    layers.Flatten(),layers.Dense(512, activation='relu'),layers.Dropout(0.5),layers.Dense(10, activation='softmax')])\n",
    "\n",
    "model.compile(optimizer='adam',loss='categorical_crossentropy',metrics=['accuracy'])\n",
    "\n",
    "#train\n",
    "batch_size = 64\n",
    "epochs = 30\n",
    "\n",
    "history = model.fit(datagen.flow(x_train, y_train, batch_size=batch_size),validation_data=(x_test, y_test),\n",
    "    epochs=epochs,verbose=1)\n",
    "\n",
    "#result\n",
    "test_loss, test_acc = model.evaluate(x_test, y_test, verbose=0)\n",
    "print(f\"Test Accuracy: {test_acc:.4f}\")\n",
    "\n",
    "plt.plot(history.history['accuracy'], label='train acc')\n",
    "plt.plot(history.history['val_accuracy'], label='val acc')\n",
    "plt.title('Model Accuracy with Data Augmentation')\n",
    "plt.xlabel('Epoch')\n",
    "plt.ylabel('Accuracy')\n",
    "plt.legend()\n",
    "plt.show()\n",
    "\n",
    "model.save(\"cnn_cifar10_augmented.keras\")\n"
   ]
  },
  {
   "cell_type": "code",
   "execution_count": null,
   "id": "363b7634",
   "metadata": {},
   "outputs": [],
   "source": []
  }
 ],
 "metadata": {
  "kernelspec": {
   "display_name": "Python 3 (ipykernel)",
   "language": "python",
   "name": "python3"
  },
  "language_info": {
   "codemirror_mode": {
    "name": "ipython",
    "version": 3
   },
   "file_extension": ".py",
   "mimetype": "text/x-python",
   "name": "python",
   "nbconvert_exporter": "python",
   "pygments_lexer": "ipython3",
   "version": "3.11.4"
  }
 },
 "nbformat": 4,
 "nbformat_minor": 5
}
